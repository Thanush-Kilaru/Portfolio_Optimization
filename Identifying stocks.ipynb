{
 "cells": [
  {
   "cell_type": "code",
   "execution_count": 6,
   "metadata": {},
   "outputs": [],
   "source": [
    "from nsepy import get_history\n",
    "from datetime import date"
   ]
  },
  {
   "cell_type": "code",
   "execution_count": 2,
   "metadata": {},
   "outputs": [],
   "source": [
    "import pandas as pd\n",
    "import numpy as np\n",
    "import seaborn as sns"
   ]
  },
  {
   "cell_type": "code",
   "execution_count": 3,
   "metadata": {},
   "outputs": [],
   "source": [
    "import matplotlib.pyplot as plt\n",
    "%matplotlib inline"
   ]
  },
  {
   "cell_type": "code",
   "execution_count": 4,
   "metadata": {},
   "outputs": [],
   "source": [
    "nifty = get_history(symbol=\"NIFTY\",\n",
    "                            start=date(2015,4,1),\n",
    "                            end=date(2017,3,31),\n",
    "                            index=True)"
   ]
  },
  {
   "cell_type": "code",
   "execution_count": 5,
   "metadata": {},
   "outputs": [
    {
     "data": {
      "text/html": [
       "<div>\n",
       "<style scoped>\n",
       "    .dataframe tbody tr th:only-of-type {\n",
       "        vertical-align: middle;\n",
       "    }\n",
       "\n",
       "    .dataframe tbody tr th {\n",
       "        vertical-align: top;\n",
       "    }\n",
       "\n",
       "    .dataframe thead th {\n",
       "        text-align: right;\n",
       "    }\n",
       "</style>\n",
       "<table border=\"1\" class=\"dataframe\">\n",
       "  <thead>\n",
       "    <tr style=\"text-align: right;\">\n",
       "      <th></th>\n",
       "      <th>Open</th>\n",
       "      <th>High</th>\n",
       "      <th>Low</th>\n",
       "      <th>Close</th>\n",
       "      <th>Volume</th>\n",
       "      <th>Turnover</th>\n",
       "    </tr>\n",
       "    <tr>\n",
       "      <th>Date</th>\n",
       "      <th></th>\n",
       "      <th></th>\n",
       "      <th></th>\n",
       "      <th></th>\n",
       "      <th></th>\n",
       "      <th></th>\n",
       "    </tr>\n",
       "  </thead>\n",
       "  <tbody>\n",
       "    <tr>\n",
       "      <th>2015-04-01</th>\n",
       "      <td>8483.70</td>\n",
       "      <td>8603.40</td>\n",
       "      <td>8464.75</td>\n",
       "      <td>8586.25</td>\n",
       "      <td>136312446</td>\n",
       "      <td>6.863030e+10</td>\n",
       "    </tr>\n",
       "    <tr>\n",
       "      <th>2015-04-06</th>\n",
       "      <td>8615.80</td>\n",
       "      <td>8667.55</td>\n",
       "      <td>8573.75</td>\n",
       "      <td>8659.90</td>\n",
       "      <td>150877855</td>\n",
       "      <td>7.633000e+10</td>\n",
       "    </tr>\n",
       "    <tr>\n",
       "      <th>2015-04-07</th>\n",
       "      <td>8684.45</td>\n",
       "      <td>8693.60</td>\n",
       "      <td>8586.85</td>\n",
       "      <td>8660.30</td>\n",
       "      <td>141765381</td>\n",
       "      <td>7.287010e+10</td>\n",
       "    </tr>\n",
       "    <tr>\n",
       "      <th>2015-04-08</th>\n",
       "      <td>8698.95</td>\n",
       "      <td>8730.50</td>\n",
       "      <td>8679.80</td>\n",
       "      <td>8714.40</td>\n",
       "      <td>149617725</td>\n",
       "      <td>7.889650e+10</td>\n",
       "    </tr>\n",
       "    <tr>\n",
       "      <th>2015-04-09</th>\n",
       "      <td>8756.20</td>\n",
       "      <td>8785.50</td>\n",
       "      <td>8682.45</td>\n",
       "      <td>8778.30</td>\n",
       "      <td>158192905</td>\n",
       "      <td>8.391190e+10</td>\n",
       "    </tr>\n",
       "  </tbody>\n",
       "</table>\n",
       "</div>"
      ],
      "text/plain": [
       "               Open     High      Low    Close     Volume      Turnover\n",
       "Date                                                                   \n",
       "2015-04-01  8483.70  8603.40  8464.75  8586.25  136312446  6.863030e+10\n",
       "2015-04-06  8615.80  8667.55  8573.75  8659.90  150877855  7.633000e+10\n",
       "2015-04-07  8684.45  8693.60  8586.85  8660.30  141765381  7.287010e+10\n",
       "2015-04-08  8698.95  8730.50  8679.80  8714.40  149617725  7.889650e+10\n",
       "2015-04-09  8756.20  8785.50  8682.45  8778.30  158192905  8.391190e+10"
      ]
     },
     "execution_count": 5,
     "metadata": {},
     "output_type": "execute_result"
    }
   ],
   "source": [
    "nifty.head()"
   ]
  },
  {
   "cell_type": "code",
   "execution_count": 218,
   "metadata": {},
   "outputs": [],
   "source": [
    "nifty['Returns']=(nifty.iloc[:,3]-nifty.iloc[:,0])*100/nifty.iloc[:,0]"
   ]
  },
  {
   "cell_type": "code",
   "execution_count": 219,
   "metadata": {},
   "outputs": [],
   "source": [
    "nifty1 = get_history(symbol=\"NIFTY\",\n",
    "                            start=date(2015,4,1),\n",
    "                            end=date(2016,3,31),\n",
    "                            index=True)"
   ]
  },
  {
   "cell_type": "code",
   "execution_count": 220,
   "metadata": {},
   "outputs": [],
   "source": [
    "nifty2 = get_history(symbol=\"NIFTY\",\n",
    "                            start=date(2016,4,1),\n",
    "                            end=date(2017,3,31),\n",
    "                            index=True)"
   ]
  },
  {
   "cell_type": "code",
   "execution_count": 221,
   "metadata": {},
   "outputs": [],
   "source": [
    "nifty_return_1=(nifty1.iloc[-1,3]-nifty1.iloc[0,0])/nifty1.iloc[0,0]"
   ]
  },
  {
   "cell_type": "code",
   "execution_count": 222,
   "metadata": {},
   "outputs": [],
   "source": [
    "nifty_return_2=(nifty2.iloc[-1,3]-nifty2.iloc[0,0])/nifty2.iloc[0,0]"
   ]
  },
  {
   "cell_type": "code",
   "execution_count": 223,
   "metadata": {},
   "outputs": [
    {
     "data": {
      "text/plain": [
       "4.124419343896135"
      ]
     },
     "execution_count": 223,
     "metadata": {},
     "output_type": "execute_result"
    }
   ],
   "source": [
    "total_return=(1+nifty_return_1)*(1+nifty_return_2)\n",
    "annualised_return=(np.sqrt(total_return)-1)*100\n",
    "Rm=annualised_return\n",
    "Rm"
   ]
  },
  {
   "cell_type": "code",
   "execution_count": 224,
   "metadata": {},
   "outputs": [
    {
     "data": {
      "text/plain": [
       "168.853"
      ]
     },
     "execution_count": 224,
     "metadata": {},
     "output_type": "execute_result"
    }
   ],
   "source": [
    "VARm=round((np.var(nifty['Returns'])*252),3)\n",
    "VARm"
   ]
  },
  {
   "cell_type": "code",
   "execution_count": 225,
   "metadata": {},
   "outputs": [],
   "source": [
    "Rf=8.25"
   ]
  },
  {
   "cell_type": "code",
   "execution_count": 3,
   "metadata": {
    "scrolled": true
   },
   "outputs": [
    {
     "data": {
      "text/html": [
       "<div>\n",
       "<style scoped>\n",
       "    .dataframe tbody tr th:only-of-type {\n",
       "        vertical-align: middle;\n",
       "    }\n",
       "\n",
       "    .dataframe tbody tr th {\n",
       "        vertical-align: top;\n",
       "    }\n",
       "\n",
       "    .dataframe thead th {\n",
       "        text-align: right;\n",
       "    }\n",
       "</style>\n",
       "<table border=\"1\" class=\"dataframe\">\n",
       "  <thead>\n",
       "    <tr style=\"text-align: right;\">\n",
       "      <th></th>\n",
       "      <th>Company Name</th>\n",
       "      <th>Industry</th>\n",
       "      <th>Symbol</th>\n",
       "      <th>Series</th>\n",
       "      <th>ISIN Code</th>\n",
       "    </tr>\n",
       "  </thead>\n",
       "  <tbody>\n",
       "    <tr>\n",
       "      <th>0</th>\n",
       "      <td>Adani Ports and Special Economic Zone Ltd.</td>\n",
       "      <td>SERVICES</td>\n",
       "      <td>ADANIPORTS</td>\n",
       "      <td>EQ</td>\n",
       "      <td>INE742F01042</td>\n",
       "    </tr>\n",
       "    <tr>\n",
       "      <th>1</th>\n",
       "      <td>Asian Paints Ltd.</td>\n",
       "      <td>CONSUMER GOODS</td>\n",
       "      <td>ASIANPAINT</td>\n",
       "      <td>EQ</td>\n",
       "      <td>INE021A01026</td>\n",
       "    </tr>\n",
       "    <tr>\n",
       "      <th>2</th>\n",
       "      <td>Axis Bank Ltd.</td>\n",
       "      <td>FINANCIAL SERVICES</td>\n",
       "      <td>AXISBANK</td>\n",
       "      <td>EQ</td>\n",
       "      <td>INE238A01034</td>\n",
       "    </tr>\n",
       "    <tr>\n",
       "      <th>3</th>\n",
       "      <td>Bajaj Auto Ltd.</td>\n",
       "      <td>AUTOMOBILE</td>\n",
       "      <td>BAJAJ-AUTO</td>\n",
       "      <td>EQ</td>\n",
       "      <td>INE917I01010</td>\n",
       "    </tr>\n",
       "    <tr>\n",
       "      <th>4</th>\n",
       "      <td>Bajaj Finance Ltd.</td>\n",
       "      <td>FINANCIAL SERVICES</td>\n",
       "      <td>BAJFINANCE</td>\n",
       "      <td>EQ</td>\n",
       "      <td>INE296A01024</td>\n",
       "    </tr>\n",
       "  </tbody>\n",
       "</table>\n",
       "</div>"
      ],
      "text/plain": [
       "                                 Company Name            Industry      Symbol  \\\n",
       "0  Adani Ports and Special Economic Zone Ltd.            SERVICES  ADANIPORTS   \n",
       "1                           Asian Paints Ltd.      CONSUMER GOODS  ASIANPAINT   \n",
       "2                              Axis Bank Ltd.  FINANCIAL SERVICES    AXISBANK   \n",
       "3                             Bajaj Auto Ltd.          AUTOMOBILE  BAJAJ-AUTO   \n",
       "4                          Bajaj Finance Ltd.  FINANCIAL SERVICES  BAJFINANCE   \n",
       "\n",
       "  Series     ISIN Code  \n",
       "0     EQ  INE742F01042  \n",
       "1     EQ  INE021A01026  \n",
       "2     EQ  INE238A01034  \n",
       "3     EQ  INE917I01010  \n",
       "4     EQ  INE296A01024  "
      ]
     },
     "execution_count": 3,
     "metadata": {},
     "output_type": "execute_result"
    }
   ],
   "source": [
    "df=pd.read_csv('ind_nifty50list.csv')\n",
    "df.drop([18],axis=0,inplace=True)\n",
    "df.head()"
   ]
  },
  {
   "cell_type": "code",
   "execution_count": 5,
   "metadata": {},
   "outputs": [
    {
     "data": {
      "text/plain": [
       "'ADANIPORTS'"
      ]
     },
     "execution_count": 5,
     "metadata": {},
     "output_type": "execute_result"
    }
   ],
   "source": [
    "nifty_stocks=list(df['Symbol'])\n",
    "nifty_stocks[0]"
   ]
  },
  {
   "cell_type": "code",
   "execution_count": 228,
   "metadata": {},
   "outputs": [],
   "source": [
    "#function for getting BETA of a stock w.r.t the market portfolio\n",
    "def Beta(X,Y):\n",
    "    \"\"\"\n",
    "    function for getting BETA of a stock w.r.t the market portfolio\n",
    "    \n",
    "    Parameters\n",
    "    ----------\n",
    "    X : name of the chosen stock. \n",
    "    \n",
    "    y : name of the market portfolio.\n",
    "       \n",
    "    \n",
    "    \"\"\"\n",
    "    X_history=get_history(symbol=X,\n",
    "                    start=date(2015,4,1),\n",
    "                    end=date(2017,3,31))\n",
    "    X_history=X_history.drop(['Symbol','Series','Prev Close','Last'], axis=1)\n",
    "    X_history['Returns']=(X_history.iloc[:,3]-X_history.iloc[:,0])*100/X_history.iloc[:,0]\n",
    "    Y_history = get_history(symbol=Y,\n",
    "                            start=date(2015,4,1),\n",
    "                            end=date(2017,3,31),\n",
    "                            index=True)\n",
    "    Y_history['Returns']=(Y_history.iloc[:,3]-Y_history.iloc[:,0])*100/Y_history.iloc[:,0]\n",
    "    var=np.var(Y_history['Returns'])\n",
    "    cov=np.cov(X_history['Returns'], Y_history['Returns'])[0,1]\n",
    "    b=round(cov/var,3)\n",
    "    return b"
   ]
  },
  {
   "cell_type": "code",
   "execution_count": 229,
   "metadata": {},
   "outputs": [
    {
     "data": {
      "text/plain": [
       "0.897"
      ]
     },
     "execution_count": 229,
     "metadata": {},
     "output_type": "execute_result"
    }
   ],
   "source": [
    "#Eg.\n",
    "Beta(nifty_stocks[3],'NIFTY')\n",
    "# nifty_stocks[3] is BAJAJ-AUTO"
   ]
  },
  {
   "cell_type": "code",
   "execution_count": 231,
   "metadata": {},
   "outputs": [],
   "source": [
    "Beta_list=[]\n",
    "for i in range(0,49):\n",
    "    Beta_list.append(Beta(nifty_stocks[i],'NIFTY'))"
   ]
  },
  {
   "cell_type": "code",
   "execution_count": 232,
   "metadata": {},
   "outputs": [
    {
     "data": {
      "text/plain": [
       "[1.311, 0.917, 1.378, 0.897, 1.0]"
      ]
     },
     "execution_count": 232,
     "metadata": {},
     "output_type": "execute_result"
    }
   ],
   "source": [
    "Beta_list[0:5]"
   ]
  },
  {
   "cell_type": "code",
   "execution_count": 7,
   "metadata": {},
   "outputs": [],
   "source": [
    "def K(X):\n",
    "    \"\"\"\n",
    "    function for finding a stock's annualised returns\n",
    "    \n",
    "    Parameters\n",
    "    ----------\n",
    "    X : name of the chosen stock.(datatype=string)\n",
    "    \"\"\"\n",
    "    X_history1=get_history(symbol=X,\n",
    "                    start=date(2015,4,1),\n",
    "                    end=date(2016,3,31))\n",
    "    X_history1=X_history1.drop(['Symbol','Series','Prev Close','Last'], axis=1)\n",
    "    X_history1_return1=(X_history1.iloc[-1,3]-X_history1.iloc[0,0])/X_history1.iloc[0,0]\n",
    "    \n",
    "    X_history2=get_history(symbol=X,\n",
    "                    start=date(2016,4,1),\n",
    "                    end=date(2017,3,31))\n",
    "    X_history2=X_history2.drop(['Symbol','Series','Prev Close','Last'], axis=1)\n",
    "    X_history2_return2=(X_history2.iloc[-1,3]-X_history2.iloc[0,0])/X_history2.iloc[0,0]\n",
    "    \n",
    "    total_returns=(1+X_history1_return1)*(1+X_history2_return2)\n",
    "    \n",
    "    annualized_returns=(np.sqrt(total_returns)-1)*100\n",
    "    return annualized_returns"
   ]
  },
  {
   "cell_type": "code",
   "execution_count": 9,
   "metadata": {},
   "outputs": [
    {
     "data": {
      "text/plain": [
       "4.864530406350309"
      ]
     },
     "execution_count": 9,
     "metadata": {},
     "output_type": "execute_result"
    }
   ],
   "source": [
    "K('ADANIPORTS')"
   ]
  },
  {
   "cell_type": "code",
   "execution_count": 234,
   "metadata": {},
   "outputs": [],
   "source": [
    "expected_returns=[]\n",
    "for j in range(0,49):\n",
    "    expected_returns.append(K(nifty_stocks[j])) "
   ]
  },
  {
   "cell_type": "code",
   "execution_count": 235,
   "metadata": {},
   "outputs": [
    {
     "data": {
      "text/html": [
       "<div>\n",
       "<style scoped>\n",
       "    .dataframe tbody tr th:only-of-type {\n",
       "        vertical-align: middle;\n",
       "    }\n",
       "\n",
       "    .dataframe tbody tr th {\n",
       "        vertical-align: top;\n",
       "    }\n",
       "\n",
       "    .dataframe thead th {\n",
       "        text-align: right;\n",
       "    }\n",
       "</style>\n",
       "<table border=\"1\" class=\"dataframe\">\n",
       "  <thead>\n",
       "    <tr style=\"text-align: right;\">\n",
       "      <th></th>\n",
       "      <th>Beta</th>\n",
       "      <th>Expected_returns</th>\n",
       "    </tr>\n",
       "  </thead>\n",
       "  <tbody>\n",
       "    <tr>\n",
       "      <th>0</th>\n",
       "      <td>1.311</td>\n",
       "      <td>4.864530</td>\n",
       "    </tr>\n",
       "    <tr>\n",
       "      <th>1</th>\n",
       "      <td>0.917</td>\n",
       "      <td>14.950098</td>\n",
       "    </tr>\n",
       "    <tr>\n",
       "      <th>2</th>\n",
       "      <td>1.378</td>\n",
       "      <td>-5.844274</td>\n",
       "    </tr>\n",
       "    <tr>\n",
       "      <th>3</th>\n",
       "      <td>0.897</td>\n",
       "      <td>17.544906</td>\n",
       "    </tr>\n",
       "    <tr>\n",
       "      <th>4</th>\n",
       "      <td>1.000</td>\n",
       "      <td>-46.986126</td>\n",
       "    </tr>\n",
       "  </tbody>\n",
       "</table>\n",
       "</div>"
      ],
      "text/plain": [
       "    Beta  Expected_returns\n",
       "0  1.311          4.864530\n",
       "1  0.917         14.950098\n",
       "2  1.378         -5.844274\n",
       "3  0.897         17.544906\n",
       "4  1.000        -46.986126"
      ]
     },
     "execution_count": 235,
     "metadata": {},
     "output_type": "execute_result"
    }
   ],
   "source": [
    "d={'Beta':np.array(Beta_list),'Expected_returns':np.array(expected_returns)}\n",
    "df1=pd.DataFrame(data=d)\n",
    "df1.head()"
   ]
  },
  {
   "cell_type": "code",
   "execution_count": 236,
   "metadata": {},
   "outputs": [
    {
     "data": {
      "image/png": "[encoded data removed]",
      "text/plain": [
       "<Figure size 360x360 with 1 Axes>"
      ]
     },
     "metadata": {
      "needs_background": "light"
     },
     "output_type": "display_data"
    }
   ],
   "source": [
    "sns.lmplot(x='Beta',y='Expected_returns',data=df1,fit_reg=False)\n",
    "x = np.linspace(-3,3,100)\n",
    "y = -4.13*x+8.25\n",
    "plt.plot(x, y, '-r', label='y = -4.13*x+8.25')\n",
    "plt.title('Security Market Line')\n",
    "plt.xlabel('beta', color='#1C2833')\n",
    "plt.ylabel('return', color='#1C2833')\n",
    "plt.legend(loc='upper left')\n",
    "plt.grid()\n",
    "plt.show()"
   ]
  },
  {
   "cell_type": "markdown",
   "metadata": {},
   "source": [
    "#### The stocks above the line are undervalued and the ones below the line are overvalued"
   ]
  },
  {
   "cell_type": "code",
   "execution_count": 237,
   "metadata": {},
   "outputs": [],
   "source": [
    "undervalued_stocks=[]\n",
    "for i in range(0,49):\n",
    "    if(df1['Expected_returns'][i]>8.25-4.13*(df1['Beta'][i])):\n",
    "        undervalued_stocks.append(nifty_stocks[i])    "
   ]
  },
  {
   "cell_type": "code",
   "execution_count": 238,
   "metadata": {},
   "outputs": [
    {
     "data": {
      "text/plain": [
       "23"
      ]
     },
     "execution_count": 238,
     "metadata": {},
     "output_type": "execute_result"
    }
   ],
   "source": [
    "len(undervalued_stocks)"
   ]
  },
  {
   "cell_type": "code",
   "execution_count": 239,
   "metadata": {},
   "outputs": [
    {
     "data": {
      "text/plain": [
       "[1, 1, 0, 1, 0]"
      ]
     },
     "execution_count": 239,
     "metadata": {},
     "output_type": "execute_result"
    }
   ],
   "source": [
    "truth_values=[]\n",
    "for i in range(0,49):\n",
    "    if(df1['Expected_returns'][i]>8.25-4.13*(df1['Beta'][i])):\n",
    "        truth_values.append(1)\n",
    "    else:\n",
    "        truth_values.append(0)\n",
    "truth_values[0:5]"
   ]
  },
  {
   "cell_type": "code",
   "execution_count": 240,
   "metadata": {},
   "outputs": [],
   "source": [
    "df['Undervalued']=np.array(truth_values)"
   ]
  },
  {
   "cell_type": "code",
   "execution_count": 241,
   "metadata": {},
   "outputs": [
    {
     "data": {
      "text/html": [
       "<div>\n",
       "<style scoped>\n",
       "    .dataframe tbody tr th:only-of-type {\n",
       "        vertical-align: middle;\n",
       "    }\n",
       "\n",
       "    .dataframe tbody tr th {\n",
       "        vertical-align: top;\n",
       "    }\n",
       "\n",
       "    .dataframe thead th {\n",
       "        text-align: right;\n",
       "    }\n",
       "</style>\n",
       "<table border=\"1\" class=\"dataframe\">\n",
       "  <thead>\n",
       "    <tr style=\"text-align: right;\">\n",
       "      <th></th>\n",
       "      <th>Company Name</th>\n",
       "      <th>Industry</th>\n",
       "      <th>Symbol</th>\n",
       "      <th>Series</th>\n",
       "      <th>ISIN Code</th>\n",
       "      <th>Undervalued</th>\n",
       "    </tr>\n",
       "  </thead>\n",
       "  <tbody>\n",
       "    <tr>\n",
       "      <th>0</th>\n",
       "      <td>Adani Ports and Special Economic Zone Ltd.</td>\n",
       "      <td>SERVICES</td>\n",
       "      <td>ADANIPORTS</td>\n",
       "      <td>EQ</td>\n",
       "      <td>INE742F01042</td>\n",
       "      <td>1</td>\n",
       "    </tr>\n",
       "    <tr>\n",
       "      <th>1</th>\n",
       "      <td>Asian Paints Ltd.</td>\n",
       "      <td>CONSUMER GOODS</td>\n",
       "      <td>ASIANPAINT</td>\n",
       "      <td>EQ</td>\n",
       "      <td>INE021A01026</td>\n",
       "      <td>1</td>\n",
       "    </tr>\n",
       "    <tr>\n",
       "      <th>2</th>\n",
       "      <td>Axis Bank Ltd.</td>\n",
       "      <td>FINANCIAL SERVICES</td>\n",
       "      <td>AXISBANK</td>\n",
       "      <td>EQ</td>\n",
       "      <td>INE238A01034</td>\n",
       "      <td>0</td>\n",
       "    </tr>\n",
       "    <tr>\n",
       "      <th>3</th>\n",
       "      <td>Bajaj Auto Ltd.</td>\n",
       "      <td>AUTOMOBILE</td>\n",
       "      <td>BAJAJ-AUTO</td>\n",
       "      <td>EQ</td>\n",
       "      <td>INE917I01010</td>\n",
       "      <td>1</td>\n",
       "    </tr>\n",
       "    <tr>\n",
       "      <th>4</th>\n",
       "      <td>Bajaj Finance Ltd.</td>\n",
       "      <td>FINANCIAL SERVICES</td>\n",
       "      <td>BAJFINANCE</td>\n",
       "      <td>EQ</td>\n",
       "      <td>INE296A01024</td>\n",
       "      <td>0</td>\n",
       "    </tr>\n",
       "  </tbody>\n",
       "</table>\n",
       "</div>"
      ],
      "text/plain": [
       "                                 Company Name            Industry      Symbol  \\\n",
       "0  Adani Ports and Special Economic Zone Ltd.            SERVICES  ADANIPORTS   \n",
       "1                           Asian Paints Ltd.      CONSUMER GOODS  ASIANPAINT   \n",
       "2                              Axis Bank Ltd.  FINANCIAL SERVICES    AXISBANK   \n",
       "3                             Bajaj Auto Ltd.          AUTOMOBILE  BAJAJ-AUTO   \n",
       "4                          Bajaj Finance Ltd.  FINANCIAL SERVICES  BAJFINANCE   \n",
       "\n",
       "  Series     ISIN Code  Undervalued  \n",
       "0     EQ  INE742F01042            1  \n",
       "1     EQ  INE021A01026            1  \n",
       "2     EQ  INE238A01034            0  \n",
       "3     EQ  INE917I01010            1  \n",
       "4     EQ  INE296A01024            0  "
      ]
     },
     "execution_count": 241,
     "metadata": {},
     "output_type": "execute_result"
    }
   ],
   "source": [
    "df.head()"
   ]
  },
  {
   "cell_type": "code",
   "execution_count": 242,
   "metadata": {},
   "outputs": [
    {
     "data": {
      "text/html": [
       "<div>\n",
       "<style scoped>\n",
       "    .dataframe tbody tr th:only-of-type {\n",
       "        vertical-align: middle;\n",
       "    }\n",
       "\n",
       "    .dataframe tbody tr th {\n",
       "        vertical-align: top;\n",
       "    }\n",
       "\n",
       "    .dataframe thead th {\n",
       "        text-align: right;\n",
       "    }\n",
       "</style>\n",
       "<table border=\"1\" class=\"dataframe\">\n",
       "  <thead>\n",
       "    <tr style=\"text-align: right;\">\n",
       "      <th></th>\n",
       "      <th>Company Name</th>\n",
       "      <th>Industry</th>\n",
       "      <th>Symbol</th>\n",
       "      <th>Series</th>\n",
       "      <th>ISIN Code</th>\n",
       "      <th>Undervalued</th>\n",
       "    </tr>\n",
       "  </thead>\n",
       "  <tbody>\n",
       "    <tr>\n",
       "      <th>0</th>\n",
       "      <td>Adani Ports and Special Economic Zone Ltd.</td>\n",
       "      <td>SERVICES</td>\n",
       "      <td>ADANIPORTS</td>\n",
       "      <td>EQ</td>\n",
       "      <td>INE742F01042</td>\n",
       "      <td>1</td>\n",
       "    </tr>\n",
       "    <tr>\n",
       "      <th>1</th>\n",
       "      <td>Asian Paints Ltd.</td>\n",
       "      <td>CONSUMER GOODS</td>\n",
       "      <td>ASIANPAINT</td>\n",
       "      <td>EQ</td>\n",
       "      <td>INE021A01026</td>\n",
       "      <td>1</td>\n",
       "    </tr>\n",
       "    <tr>\n",
       "      <th>3</th>\n",
       "      <td>Bajaj Auto Ltd.</td>\n",
       "      <td>AUTOMOBILE</td>\n",
       "      <td>BAJAJ-AUTO</td>\n",
       "      <td>EQ</td>\n",
       "      <td>INE917I01010</td>\n",
       "      <td>1</td>\n",
       "    </tr>\n",
       "    <tr>\n",
       "      <th>5</th>\n",
       "      <td>Bajaj Finserv Ltd.</td>\n",
       "      <td>FINANCIAL SERVICES</td>\n",
       "      <td>BAJAJFINSV</td>\n",
       "      <td>EQ</td>\n",
       "      <td>INE918I01018</td>\n",
       "      <td>1</td>\n",
       "    </tr>\n",
       "    <tr>\n",
       "      <th>9</th>\n",
       "      <td>Britannia Industries Ltd.</td>\n",
       "      <td>CONSUMER GOODS</td>\n",
       "      <td>BRITANNIA</td>\n",
       "      <td>EQ</td>\n",
       "      <td>INE216A01030</td>\n",
       "      <td>1</td>\n",
       "    </tr>\n",
       "    <tr>\n",
       "      <th>13</th>\n",
       "      <td>Eicher Motors Ltd.</td>\n",
       "      <td>AUTOMOBILE</td>\n",
       "      <td>EICHERMOT</td>\n",
       "      <td>EQ</td>\n",
       "      <td>INE066A01013</td>\n",
       "      <td>1</td>\n",
       "    </tr>\n",
       "    <tr>\n",
       "      <th>17</th>\n",
       "      <td>HDFC Bank Ltd.</td>\n",
       "      <td>FINANCIAL SERVICES</td>\n",
       "      <td>HDFCBANK</td>\n",
       "      <td>EQ</td>\n",
       "      <td>INE040A01034</td>\n",
       "      <td>1</td>\n",
       "    </tr>\n",
       "    <tr>\n",
       "      <th>19</th>\n",
       "      <td>Hero MotoCorp Ltd.</td>\n",
       "      <td>AUTOMOBILE</td>\n",
       "      <td>HEROMOTOCO</td>\n",
       "      <td>EQ</td>\n",
       "      <td>INE158A01026</td>\n",
       "      <td>1</td>\n",
       "    </tr>\n",
       "    <tr>\n",
       "      <th>20</th>\n",
       "      <td>Hindalco Industries Ltd.</td>\n",
       "      <td>METALS</td>\n",
       "      <td>HINDALCO</td>\n",
       "      <td>EQ</td>\n",
       "      <td>INE038A01020</td>\n",
       "      <td>1</td>\n",
       "    </tr>\n",
       "    <tr>\n",
       "      <th>22</th>\n",
       "      <td>Housing Development Finance Corporation Ltd.</td>\n",
       "      <td>FINANCIAL SERVICES</td>\n",
       "      <td>HDFC</td>\n",
       "      <td>EQ</td>\n",
       "      <td>INE001A01036</td>\n",
       "      <td>1</td>\n",
       "    </tr>\n",
       "    <tr>\n",
       "      <th>26</th>\n",
       "      <td>IndusInd Bank Ltd.</td>\n",
       "      <td>FINANCIAL SERVICES</td>\n",
       "      <td>INDUSINDBK</td>\n",
       "      <td>EQ</td>\n",
       "      <td>INE095A01012</td>\n",
       "      <td>1</td>\n",
       "    </tr>\n",
       "    <tr>\n",
       "      <th>31</th>\n",
       "      <td>Mahindra &amp; Mahindra Ltd.</td>\n",
       "      <td>AUTOMOBILE</td>\n",
       "      <td>M&amp;M</td>\n",
       "      <td>EQ</td>\n",
       "      <td>INE101A01026</td>\n",
       "      <td>1</td>\n",
       "    </tr>\n",
       "    <tr>\n",
       "      <th>32</th>\n",
       "      <td>Maruti Suzuki India Ltd.</td>\n",
       "      <td>AUTOMOBILE</td>\n",
       "      <td>MARUTI</td>\n",
       "      <td>EQ</td>\n",
       "      <td>INE585B01010</td>\n",
       "      <td>1</td>\n",
       "    </tr>\n",
       "    <tr>\n",
       "      <th>33</th>\n",
       "      <td>NTPC Ltd.</td>\n",
       "      <td>POWER</td>\n",
       "      <td>NTPC</td>\n",
       "      <td>EQ</td>\n",
       "      <td>INE733E01010</td>\n",
       "      <td>1</td>\n",
       "    </tr>\n",
       "    <tr>\n",
       "      <th>36</th>\n",
       "      <td>Power Grid Corporation of India Ltd.</td>\n",
       "      <td>POWER</td>\n",
       "      <td>POWERGRID</td>\n",
       "      <td>EQ</td>\n",
       "      <td>INE752E01010</td>\n",
       "      <td>1</td>\n",
       "    </tr>\n",
       "    <tr>\n",
       "      <th>37</th>\n",
       "      <td>Reliance Industries Ltd.</td>\n",
       "      <td>OIL &amp; GAS</td>\n",
       "      <td>RELIANCE</td>\n",
       "      <td>EQ</td>\n",
       "      <td>INE002A01018</td>\n",
       "      <td>1</td>\n",
       "    </tr>\n",
       "    <tr>\n",
       "      <th>38</th>\n",
       "      <td>Shree Cement Ltd.</td>\n",
       "      <td>CEMENT &amp; CEMENT PRODUCTS</td>\n",
       "      <td>SHREECEM</td>\n",
       "      <td>EQ</td>\n",
       "      <td>INE070A01015</td>\n",
       "      <td>1</td>\n",
       "    </tr>\n",
       "    <tr>\n",
       "      <th>39</th>\n",
       "      <td>State Bank of India</td>\n",
       "      <td>FINANCIAL SERVICES</td>\n",
       "      <td>SBIN</td>\n",
       "      <td>EQ</td>\n",
       "      <td>INE062A01020</td>\n",
       "      <td>1</td>\n",
       "    </tr>\n",
       "    <tr>\n",
       "      <th>43</th>\n",
       "      <td>Tata Steel Ltd.</td>\n",
       "      <td>METALS</td>\n",
       "      <td>TATASTEEL</td>\n",
       "      <td>EQ</td>\n",
       "      <td>INE081A01012</td>\n",
       "      <td>1</td>\n",
       "    </tr>\n",
       "    <tr>\n",
       "      <th>45</th>\n",
       "      <td>Titan Company Ltd.</td>\n",
       "      <td>CONSUMER GOODS</td>\n",
       "      <td>TITAN</td>\n",
       "      <td>EQ</td>\n",
       "      <td>INE280A01028</td>\n",
       "      <td>1</td>\n",
       "    </tr>\n",
       "    <tr>\n",
       "      <th>46</th>\n",
       "      <td>UPL Ltd.</td>\n",
       "      <td>FERTILISERS &amp; PESTICIDES</td>\n",
       "      <td>UPL</td>\n",
       "      <td>EQ</td>\n",
       "      <td>INE628A01036</td>\n",
       "      <td>1</td>\n",
       "    </tr>\n",
       "    <tr>\n",
       "      <th>47</th>\n",
       "      <td>UltraTech Cement Ltd.</td>\n",
       "      <td>CEMENT &amp; CEMENT PRODUCTS</td>\n",
       "      <td>ULTRACEMCO</td>\n",
       "      <td>EQ</td>\n",
       "      <td>INE481G01011</td>\n",
       "      <td>1</td>\n",
       "    </tr>\n",
       "    <tr>\n",
       "      <th>49</th>\n",
       "      <td>Zee Entertainment Enterprises Ltd.</td>\n",
       "      <td>MEDIA &amp; ENTERTAINMENT</td>\n",
       "      <td>ZEEL</td>\n",
       "      <td>EQ</td>\n",
       "      <td>INE256A01028</td>\n",
       "      <td>1</td>\n",
       "    </tr>\n",
       "  </tbody>\n",
       "</table>\n",
       "</div>"
      ],
      "text/plain": [
       "                                    Company Name                  Industry  \\\n",
       "0     Adani Ports and Special Economic Zone Ltd.                  SERVICES   \n",
       "1                              Asian Paints Ltd.            CONSUMER GOODS   \n",
       "3                                Bajaj Auto Ltd.                AUTOMOBILE   \n",
       "5                             Bajaj Finserv Ltd.        FINANCIAL SERVICES   \n",
       "9                      Britannia Industries Ltd.            CONSUMER GOODS   \n",
       "13                            Eicher Motors Ltd.                AUTOMOBILE   \n",
       "17                                HDFC Bank Ltd.        FINANCIAL SERVICES   \n",
       "19                            Hero MotoCorp Ltd.                AUTOMOBILE   \n",
       "20                      Hindalco Industries Ltd.                    METALS   \n",
       "22  Housing Development Finance Corporation Ltd.        FINANCIAL SERVICES   \n",
       "26                            IndusInd Bank Ltd.        FINANCIAL SERVICES   \n",
       "31                      Mahindra & Mahindra Ltd.                AUTOMOBILE   \n",
       "32                      Maruti Suzuki India Ltd.                AUTOMOBILE   \n",
       "33                                     NTPC Ltd.                     POWER   \n",
       "36          Power Grid Corporation of India Ltd.                     POWER   \n",
       "37                      Reliance Industries Ltd.                 OIL & GAS   \n",
       "38                             Shree Cement Ltd.  CEMENT & CEMENT PRODUCTS   \n",
       "39                           State Bank of India        FINANCIAL SERVICES   \n",
       "43                               Tata Steel Ltd.                    METALS   \n",
       "45                            Titan Company Ltd.            CONSUMER GOODS   \n",
       "46                                      UPL Ltd.  FERTILISERS & PESTICIDES   \n",
       "47                         UltraTech Cement Ltd.  CEMENT & CEMENT PRODUCTS   \n",
       "49            Zee Entertainment Enterprises Ltd.     MEDIA & ENTERTAINMENT   \n",
       "\n",
       "        Symbol Series     ISIN Code  Undervalued  \n",
       "0   ADANIPORTS     EQ  INE742F01042            1  \n",
       "1   ASIANPAINT     EQ  INE021A01026            1  \n",
       "3   BAJAJ-AUTO     EQ  INE917I01010            1  \n",
       "5   BAJAJFINSV     EQ  INE918I01018            1  \n",
       "9    BRITANNIA     EQ  INE216A01030            1  \n",
       "13   EICHERMOT     EQ  INE066A01013            1  \n",
       "17    HDFCBANK     EQ  INE040A01034            1  \n",
       "19  HEROMOTOCO     EQ  INE158A01026            1  \n",
       "20    HINDALCO     EQ  INE038A01020            1  \n",
       "22        HDFC     EQ  INE001A01036            1  \n",
       "26  INDUSINDBK     EQ  INE095A01012            1  \n",
       "31         M&M     EQ  INE101A01026            1  \n",
       "32      MARUTI     EQ  INE585B01010            1  \n",
       "33        NTPC     EQ  INE733E01010            1  \n",
       "36   POWERGRID     EQ  INE752E01010            1  \n",
       "37    RELIANCE     EQ  INE002A01018            1  \n",
       "38    SHREECEM     EQ  INE070A01015            1  \n",
       "39        SBIN     EQ  INE062A01020            1  \n",
       "43   TATASTEEL     EQ  INE081A01012            1  \n",
       "45       TITAN     EQ  INE280A01028            1  \n",
       "46         UPL     EQ  INE628A01036            1  \n",
       "47  ULTRACEMCO     EQ  INE481G01011            1  \n",
       "49        ZEEL     EQ  INE256A01028            1  "
      ]
     },
     "execution_count": 242,
     "metadata": {},
     "output_type": "execute_result"
    }
   ],
   "source": [
    "df_u=df[df['Undervalued']==1]\n",
    "df_u"
   ]
  },
  {
   "cell_type": "code",
   "execution_count": 243,
   "metadata": {},
   "outputs": [
    {
     "data": {
      "text/plain": [
       "Industry\n",
       "AUTOMOBILE                  BAJAJ-AUTO\n",
       "CEMENT & CEMENT PRODUCTS      SHREECEM\n",
       "CONSUMER GOODS              ASIANPAINT\n",
       "FERTILISERS & PESTICIDES           UPL\n",
       "FINANCIAL SERVICES          BAJAJFINSV\n",
       "MEDIA & ENTERTAINMENT             ZEEL\n",
       "METALS                        HINDALCO\n",
       "OIL & GAS                     RELIANCE\n",
       "POWER                             NTPC\n",
       "SERVICES                    ADANIPORTS\n",
       "Name: Symbol, dtype: object"
      ]
     },
     "execution_count": 243,
     "metadata": {},
     "output_type": "execute_result"
    }
   ],
   "source": [
    "df_u.groupby('Industry').first().Symbol"
   ]
  },
  {
   "cell_type": "code",
   "execution_count": 244,
   "metadata": {},
   "outputs": [
    {
     "data": {
      "text/plain": [
       "Industry\n",
       "AUTOMOBILE                      MARUTI\n",
       "CEMENT & CEMENT PRODUCTS    ULTRACEMCO\n",
       "CONSUMER GOODS                   TITAN\n",
       "FERTILISERS & PESTICIDES           UPL\n",
       "FINANCIAL SERVICES                SBIN\n",
       "MEDIA & ENTERTAINMENT             ZEEL\n",
       "METALS                       TATASTEEL\n",
       "OIL & GAS                     RELIANCE\n",
       "POWER                        POWERGRID\n",
       "SERVICES                    ADANIPORTS\n",
       "Name: Symbol, dtype: object"
      ]
     },
     "execution_count": 244,
     "metadata": {},
     "output_type": "execute_result"
    }
   ],
   "source": [
    "df_u.groupby('Industry').last().Symbol"
   ]
  },
  {
   "cell_type": "code",
   "execution_count": 245,
   "metadata": {},
   "outputs": [],
   "source": [
    "def returns(X):\n",
    "    '''\n",
    "    returns an array for the returns on the stock\n",
    "    \n",
    "    Parameters\n",
    "    ----------\n",
    "    X : name of the chosen stock.(datatype=string)\n",
    "    '''\n",
    "    X_history=get_history(symbol=X,\n",
    "                    start=date(2015,4,1),\n",
    "                    end=date(2017,3,31))\n",
    "    X_history=X_history.drop(['Symbol','Series','Prev Close','Last'], axis=1)\n",
    "    X_history['Returns']=(X_history.iloc[:,3]-X_history.iloc[:,0])*100/X_history.iloc[:,0]\n",
    "    return X_history['Returns']\n",
    "    "
   ]
  },
  {
   "cell_type": "markdown",
   "metadata": {},
   "source": [
    "## 1) How did I choose my Stocks?\n",
    "1) I've considered the NIFTY index to be the market portfolio and the return on bonds with two year maturity in 2015 to be the risk free rate.</p>\n",
    "\n",
    "2) Then, I calculated the beta for each stock in the NIFTY wrt the market portfolio.</p>\n",
    "\n",
    "3) Then I plotted the Security Market Line, and plotted the return of individual stocks as given by CAPM and identified the undervalued stocks from NIFTY 50.</p>\n",
    "\n",
    "4) Among the undervalued stocks, I've taken one stock from every Industry (mathematically, they have little CORRELATION), so as to diversify the risk.</p>"
   ]
  },
  {
   "cell_type": "code",
   "execution_count": 246,
   "metadata": {},
   "outputs": [],
   "source": [
    "my_portfolio=['BAJAJ-AUTO','ASIANPAINT','UPL','ZEEL','HINDALCO','NTPC','ADANIPORTS']"
   ]
  },
  {
   "cell_type": "code",
   "execution_count": 249,
   "metadata": {},
   "outputs": [
    {
     "data": {
      "text/plain": [
       "Date\n",
       "2015-04-01   -0.357663\n",
       "2015-04-06    0.315271\n",
       "2015-04-07    2.676536\n",
       "2015-04-08    0.389700\n",
       "2015-04-09   -0.123742\n",
       "                ...   \n",
       "2017-03-27   -1.310750\n",
       "2017-03-28    0.171986\n",
       "2017-03-29    0.116698\n",
       "2017-03-30   -0.605623\n",
       "2017-03-31   -0.604074\n",
       "Name: Returns, Length: 495, dtype: float64"
      ]
     },
     "execution_count": 249,
     "metadata": {},
     "output_type": "execute_result"
    }
   ],
   "source": [
    "returns(my_portfolio[0])"
   ]
  },
  {
   "cell_type": "code",
   "execution_count": 250,
   "metadata": {},
   "outputs": [],
   "source": [
    "ra=[]\n",
    "#ra=individual returns arrays\n",
    "for i in range(0,7):\n",
    "    ra.append(returns(my_portfolio[i]))"
   ]
  },
  {
   "cell_type": "code",
   "execution_count": 251,
   "metadata": {},
   "outputs": [
    {
     "data": {
      "text/plain": [
       "2.3013889060989703"
      ]
     },
     "execution_count": 251,
     "metadata": {},
     "output_type": "execute_result"
    }
   ],
   "source": [
    "np.cov(ra[0],ra[0])[0,1]"
   ]
  },
  {
   "cell_type": "code",
   "execution_count": 252,
   "metadata": {},
   "outputs": [],
   "source": [
    "C=[]\n",
    "for i in range(0,7):\n",
    "    a=[]\n",
    "    for j in range(0,7):\n",
    "        a.append(np.cov(ra[i],ra[j])[0,1])\n",
    "    C.append(a)"
   ]
  },
  {
   "cell_type": "code",
   "execution_count": 253,
   "metadata": {},
   "outputs": [
    {
     "data": {
      "text/plain": [
       "[2.3013889060989703,\n",
       " 0.6070126652693462,\n",
       " 0.8227761007687577,\n",
       " 0.9382654690315826,\n",
       " 1.0215663747836716,\n",
       " 0.6229578708224508,\n",
       " 0.8823105508076518]"
      ]
     },
     "execution_count": 253,
     "metadata": {},
     "output_type": "execute_result"
    }
   ],
   "source": [
    "C[0]"
   ]
  },
  {
   "cell_type": "code",
   "execution_count": 254,
   "metadata": {},
   "outputs": [],
   "source": [
    "u=np.ones(7)"
   ]
  },
  {
   "cell_type": "code",
   "execution_count": 255,
   "metadata": {},
   "outputs": [],
   "source": [
    "w=(u@np.linalg.inv(C))/(u@np.linalg.inv(C)@(u.T))\n",
    "# minimum variance portfolio"
   ]
  },
  {
   "cell_type": "code",
   "execution_count": 256,
   "metadata": {},
   "outputs": [
    {
     "data": {
      "text/plain": [
       "array([0.2495233 , 0.25202259, 0.09620913, 0.09862125, 0.00193022,\n",
       "       0.25957422, 0.0421193 ])"
      ]
     },
     "execution_count": 256,
     "metadata": {},
     "output_type": "execute_result"
    }
   ],
   "source": [
    "w"
   ]
  },
  {
   "cell_type": "code",
   "execution_count": 257,
   "metadata": {},
   "outputs": [
    {
     "data": {
      "text/plain": [
       "1.0000000000000002"
      ]
     },
     "execution_count": 257,
     "metadata": {},
     "output_type": "execute_result"
    }
   ],
   "source": [
    "sum(w)"
   ]
  },
  {
   "cell_type": "code",
   "execution_count": 258,
   "metadata": {},
   "outputs": [
    {
     "data": {
      "text/plain": [
       "[17.54490609357797,\n",
       " 14.950097728335244,\n",
       " 28.46147890644639,\n",
       " 25.690627416361455,\n",
       " 23.279827368884188,\n",
       " 6.328163947919241,\n",
       " 4.864530406350309]"
      ]
     },
     "execution_count": 258,
     "metadata": {},
     "output_type": "execute_result"
    }
   ],
   "source": [
    "m=[]\n",
    "for i in range(0,7):\n",
    "    m.append(K(my_portfolio[i]))\n",
    "m    "
   ]
  },
  {
   "cell_type": "code",
   "execution_count": 259,
   "metadata": {},
   "outputs": [
    {
     "name": "stdout",
     "output_type": "stream",
     "text": [
      "portfolio returns are 15.31 %\n",
      "porfolio volatility/risk is 16.648\n"
     ]
    }
   ],
   "source": [
    "returns_pf=m@(w.T)\n",
    "var_pf=w@C@(w.T)\n",
    "print('portfolio returns are',round(returns_pf,3), '%')\n",
    "print('porfolio volatility/risk is', round(np.sqrt((var_pf)*252),3))"
   ]
  },
  {
   "cell_type": "code",
   "execution_count": 260,
   "metadata": {},
   "outputs": [
    {
     "name": "stdout",
     "output_type": "stream",
     "text": [
      "market returns are 4.124 %\n",
      "market volatility is 12.994\n"
     ]
    }
   ],
   "source": [
    "print('market returns are', round(Rm,3), '%')\n",
    "print('market volatility is', round(np.sqrt(VARm),3))"
   ]
  },
  {
   "cell_type": "code",
   "execution_count": 261,
   "metadata": {},
   "outputs": [
    {
     "name": "stdout",
     "output_type": "stream",
     "text": [
      "Sharpe ratio for my_portfolio is 0.424\n"
     ]
    }
   ],
   "source": [
    "sharpe_ratio=round((returns_pf-Rf)/np.sqrt((var_pf)*252),3)\n",
    "print('Sharpe ratio for my_portfolio is', sharpe_ratio)"
   ]
  },
  {
   "cell_type": "code",
   "execution_count": 262,
   "metadata": {},
   "outputs": [],
   "source": [
    "portfolio_daily_returns=[0]\n",
    "for i in range(0,7):\n",
    "    portfolio_daily_returns+=w[i]*ra[i]"
   ]
  },
  {
   "cell_type": "code",
   "execution_count": 263,
   "metadata": {},
   "outputs": [
    {
     "data": {
      "text/plain": [
       "Date\n",
       "2015-04-01    0.363756\n",
       "2015-04-06    0.721226\n",
       "2015-04-07    1.868833\n",
       "2015-04-08    0.012279\n",
       "2015-04-09    0.308112\n",
       "                ...   \n",
       "2017-03-27   -1.060285\n",
       "2017-03-28    0.659105\n",
       "2017-03-29   -0.156221\n",
       "2017-03-30   -0.076170\n",
       "2017-03-31    0.461467\n",
       "Name: Returns, Length: 495, dtype: float64"
      ]
     },
     "execution_count": 263,
     "metadata": {},
     "output_type": "execute_result"
    }
   ],
   "source": [
    "portfolio_daily_returns"
   ]
  },
  {
   "cell_type": "code",
   "execution_count": 264,
   "metadata": {},
   "outputs": [
    {
     "data": {
      "text/plain": [
       "0.943"
      ]
     },
     "execution_count": 264,
     "metadata": {},
     "output_type": "execute_result"
    }
   ],
   "source": [
    "beta_pf=(np.cov(portfolio_daily_returns,nifty['Returns'])[0,1])/(VARm/252)\n",
    "round(beta_pf,3)"
   ]
  },
  {
   "cell_type": "code",
   "execution_count": 265,
   "metadata": {},
   "outputs": [
    {
     "data": {
      "text/plain": [
       "10.95"
      ]
     },
     "execution_count": 265,
     "metadata": {},
     "output_type": "execute_result"
    }
   ],
   "source": [
    "jensens_alpha=(returns_pf-Rf)-(beta_pf)*(Rm-Rf)\n",
    "round(jensens_alpha,3)"
   ]
  },
  {
   "cell_type": "code",
   "execution_count": 266,
   "metadata": {},
   "outputs": [
    {
     "data": {
      "text/plain": [
       "7.487"
      ]
     },
     "execution_count": 266,
     "metadata": {},
     "output_type": "execute_result"
    }
   ],
   "source": [
    "treynors_measure=(returns_pf-Rf)/beta_pf\n",
    "round(treynors_measure,3)"
   ]
  },
  {
   "cell_type": "markdown",
   "metadata": {},
   "source": [
    "Var(pf)=Var(ɛ_pf)+(beta_pf^2)*(Var(m)^2)\n",
    "</p> If beta of a pf is less than one, then it has lesser systematic risk than the market portfolio </p>"
   ]
  },
  {
   "cell_type": "code",
   "execution_count": 267,
   "metadata": {},
   "outputs": [],
   "source": [
    "weights=[[0]*7]*25000\n",
    "num_portfolios=25000\n",
    "for i in range(num_portfolios):\n",
    "    weights[i] = np.array(np.random.random(7))\n",
    "    weights[i]= weights[i]/np.sum(weights[i])"
   ]
  },
  {
   "cell_type": "code",
   "execution_count": 268,
   "metadata": {},
   "outputs": [],
   "source": [
    "portfolio_returns=[]\n",
    "for i in range(25000):\n",
    "    portfolio_returns.append(m@(weights[i].T))"
   ]
  },
  {
   "cell_type": "code",
   "execution_count": 269,
   "metadata": {},
   "outputs": [],
   "source": [
    "porfolio_std_dev=[]\n",
    "for i in range(25000):\n",
    "    porfolio_std_dev.append(np.sqrt((weights[i])@C@(weights[i].T)*252))"
   ]
  },
  {
   "cell_type": "code",
   "execution_count": 270,
   "metadata": {},
   "outputs": [],
   "source": [
    "sharpe_ratios=[]\n",
    "for i in range(25000):\n",
    "    sharpe_ratios.append((portfolio_returns[i]-Rf)/porfolio_std_dev[i])"
   ]
  },
  {
   "cell_type": "code",
   "execution_count": 271,
   "metadata": {},
   "outputs": [],
   "source": [
    "data={'portfolio_returns':portfolio_returns,'Std.Dev':porfolio_std_dev,'sharpe_ratio':sharpe_ratios}\n",
    "portfolios=pd.DataFrame(data)"
   ]
  },
  {
   "cell_type": "code",
   "execution_count": 272,
   "metadata": {},
   "outputs": [
    {
     "data": {
      "text/html": [
       "<div>\n",
       "<style scoped>\n",
       "    .dataframe tbody tr th:only-of-type {\n",
       "        vertical-align: middle;\n",
       "    }\n",
       "\n",
       "    .dataframe tbody tr th {\n",
       "        vertical-align: top;\n",
       "    }\n",
       "\n",
       "    .dataframe thead th {\n",
       "        text-align: right;\n",
       "    }\n",
       "</style>\n",
       "<table border=\"1\" class=\"dataframe\">\n",
       "  <thead>\n",
       "    <tr style=\"text-align: right;\">\n",
       "      <th></th>\n",
       "      <th>portfolio_returns</th>\n",
       "      <th>Std.Dev</th>\n",
       "      <th>sharpe_ratio</th>\n",
       "    </tr>\n",
       "  </thead>\n",
       "  <tbody>\n",
       "    <tr>\n",
       "      <th>0</th>\n",
       "      <td>12.872441</td>\n",
       "      <td>19.851431</td>\n",
       "      <td>0.232852</td>\n",
       "    </tr>\n",
       "    <tr>\n",
       "      <th>1</th>\n",
       "      <td>15.237581</td>\n",
       "      <td>18.342157</td>\n",
       "      <td>0.380957</td>\n",
       "    </tr>\n",
       "    <tr>\n",
       "      <th>2</th>\n",
       "      <td>16.633894</td>\n",
       "      <td>18.582514</td>\n",
       "      <td>0.451171</td>\n",
       "    </tr>\n",
       "    <tr>\n",
       "      <th>3</th>\n",
       "      <td>17.530328</td>\n",
       "      <td>17.118943</td>\n",
       "      <td>0.542109</td>\n",
       "    </tr>\n",
       "    <tr>\n",
       "      <th>4</th>\n",
       "      <td>18.472549</td>\n",
       "      <td>19.749797</td>\n",
       "      <td>0.517603</td>\n",
       "    </tr>\n",
       "  </tbody>\n",
       "</table>\n",
       "</div>"
      ],
      "text/plain": [
       "   portfolio_returns    Std.Dev  sharpe_ratio\n",
       "0          12.872441  19.851431      0.232852\n",
       "1          15.237581  18.342157      0.380957\n",
       "2          16.633894  18.582514      0.451171\n",
       "3          17.530328  17.118943      0.542109\n",
       "4          18.472549  19.749797      0.517603"
      ]
     },
     "execution_count": 272,
     "metadata": {},
     "output_type": "execute_result"
    }
   ],
   "source": [
    "portfolios.head()"
   ]
  },
  {
   "cell_type": "code",
   "execution_count": 273,
   "metadata": {},
   "outputs": [],
   "source": [
    "max_sharpe_port = portfolios.iloc[portfolios['sharpe_ratio'].idxmax()]\n",
    "min_volatility_port = portfolios.iloc[portfolios['Std.Dev'].idxmin()]"
   ]
  },
  {
   "cell_type": "code",
   "execution_count": 274,
   "metadata": {},
   "outputs": [
    {
     "name": "stdout",
     "output_type": "stream",
     "text": [
      "The Boundary of the red portion is the EFFICIENT FRONTIER\n"
     ]
    },
    {
     "data": {
      "image/png": "[encoded data removed]",
      "text/plain": [
       "<Figure size 432x288 with 2 Axes>"
      ]
     },
     "metadata": {
      "needs_background": "light"
     },
     "output_type": "display_data"
    }
   ],
   "source": [
    "plt.scatter(portfolios['Std.Dev'],portfolios.portfolio_returns,c=portfolios.sharpe_ratio,cmap='coolwarm');\n",
    "plt.xlabel('Volatility')\n",
    "plt.ylabel('Returns')\n",
    "plt.colorbar();\n",
    "plt.scatter(max_sharpe_port[1],max_sharpe_port[0],marker=(5,1,0),color='r',s=1000);\n",
    "plt.scatter(min_volatility_port[1],min_volatility_port[0],marker=(5,1,0),color='g',s=1000);\n",
    "print('The Boundary of the red portion is the EFFICIENT FRONTIER')"
   ]
  },
  {
   "cell_type": "code",
   "execution_count": 275,
   "metadata": {},
   "outputs": [
    {
     "name": "stdout",
     "output_type": "stream",
     "text": [
      "portfolio_returns    24.189120\n",
      "Std.Dev              20.414163\n",
      "sharpe_ratio          0.780787\n",
      "Name: 23417, dtype: float64\n",
      "portfolio_returns    15.377581\n",
      "Std.Dev              16.661075\n",
      "sharpe_ratio          0.427798\n",
      "Name: 4637, dtype: float64\n"
     ]
    }
   ],
   "source": [
    "print(max_sharpe_port)\n",
    "print(min_volatility_port)"
   ]
  },
  {
   "cell_type": "code",
   "execution_count": 276,
   "metadata": {},
   "outputs": [],
   "source": [
    "new_portfolio=['BAJAJ-AUTO','ASIANPAINT','UPL','ZEEL','HINDALCO','NTPC','ADANIPORTS','SHREECEM','BAJAJFINSV','RELIANCE',\n",
    "              'MARUTI','SBIN','TITAN','POWERGRID','BRITANNIA']"
   ]
  },
  {
   "cell_type": "code",
   "execution_count": 278,
   "metadata": {},
   "outputs": [],
   "source": [
    "ra_new=[]\n",
    "#ra=individual returns arrays\n",
    "for i in range(0,15):\n",
    "    ra_new.append(returns(new_portfolio[i]))"
   ]
  },
  {
   "cell_type": "code",
   "execution_count": 279,
   "metadata": {},
   "outputs": [],
   "source": [
    "C_new=[]\n",
    "for i in range(0,15):\n",
    "    b=[]\n",
    "    for j in range(0,15):\n",
    "        b.append(np.cov(ra_new[i],ra_new[j])[0,1])\n",
    "    C_new.append(b)"
   ]
  },
  {
   "cell_type": "code",
   "execution_count": 280,
   "metadata": {},
   "outputs": [],
   "source": [
    "u_new=np.ones(15)\n",
    "w_new=(u_new@np.linalg.inv(C_new))/(u_new@np.linalg.inv(C_new)@(u_new.T))\n",
    "# minimum variance portfolio"
   ]
  },
  {
   "cell_type": "code",
   "execution_count": 281,
   "metadata": {},
   "outputs": [
    {
     "data": {
      "text/plain": [
       "array([ 1.46302568e-01,  8.05896085e-02,  1.89885767e-02, -1.50191141e-02,\n",
       "       -5.49957140e-02,  9.05545167e-02,  8.32979317e-03,  5.96480838e-02,\n",
       "        3.29047319e-02,  1.46068592e-01,  6.01162285e-02, -1.90232625e-04,\n",
       "        8.18578930e-02,  2.42969181e-01,  1.01875287e-01])"
      ]
     },
     "execution_count": 281,
     "metadata": {},
     "output_type": "execute_result"
    }
   ],
   "source": [
    "w_new"
   ]
  },
  {
   "cell_type": "code",
   "execution_count": 282,
   "metadata": {},
   "outputs": [
    {
     "data": {
      "text/plain": [
       "1.0000000000000002"
      ]
     },
     "execution_count": 282,
     "metadata": {},
     "output_type": "execute_result"
    }
   ],
   "source": [
    "sum(w_new)"
   ]
  },
  {
   "cell_type": "code",
   "execution_count": 283,
   "metadata": {},
   "outputs": [
    {
     "data": {
      "text/plain": [
       "numpy.ndarray"
      ]
     },
     "execution_count": 283,
     "metadata": {},
     "output_type": "execute_result"
    }
   ],
   "source": [
    "m_new=[]\n",
    "for i in range(0,15):\n",
    "    m_new.append(K(new_portfolio[i]))\n",
    "m_new=np.array(m_new)  \n",
    "type(m_new)"
   ]
  },
  {
   "cell_type": "code",
   "execution_count": 284,
   "metadata": {},
   "outputs": [
    {
     "name": "stdout",
     "output_type": "stream",
     "text": [
      "portfolio returns are 20.082 %\n",
      "porfolio volatility/risk is 13.432\n"
     ]
    }
   ],
   "source": [
    "returns_new_pf=m_new@(w_new.T)\n",
    "var_new_pf=w_new@C_new@(w_new.T)\n",
    "print('portfolio returns are',round(returns_new_pf,3), '%')\n",
    "print('porfolio volatility/risk is', round(np.sqrt((var_new_pf)*252),3))"
   ]
  },
  {
   "cell_type": "code",
   "execution_count": 285,
   "metadata": {},
   "outputs": [
    {
     "name": "stdout",
     "output_type": "stream",
     "text": [
      "Sharpe ratio for my_portfolio is 0.881\n"
     ]
    }
   ],
   "source": [
    "sharpe_ratio_new=round((returns_new_pf-Rf)/np.sqrt((var_new_pf)*252),3)\n",
    "print('Sharpe ratio for my_portfolio is', sharpe_ratio_new)"
   ]
  },
  {
   "cell_type": "markdown",
   "metadata": {},
   "source": [
    "#### Max Sharpe ratio for the previous portfolio was 0.78, it is significantly higher now, which means more reward per unit risk!"
   ]
  },
  {
   "cell_type": "code",
   "execution_count": 286,
   "metadata": {},
   "outputs": [],
   "source": [
    "new_portfolio_daily_returns=[0]\n",
    "for i in range(0,15):\n",
    "    new_portfolio_daily_returns+=w_new[i]*ra_new[i]"
   ]
  },
  {
   "cell_type": "code",
   "execution_count": 287,
   "metadata": {},
   "outputs": [
    {
     "data": {
      "text/plain": [
       "0.806"
      ]
     },
     "execution_count": 287,
     "metadata": {},
     "output_type": "execute_result"
    }
   ],
   "source": [
    "beta_new_pf=(np.cov(new_portfolio_daily_returns,nifty['Returns'])[0,1])/(VARm/252)\n",
    "round(beta_new_pf,3)"
   ]
  },
  {
   "cell_type": "code",
   "execution_count": 288,
   "metadata": {},
   "outputs": [
    {
     "data": {
      "text/plain": [
       "15.16"
      ]
     },
     "execution_count": 288,
     "metadata": {},
     "output_type": "execute_result"
    }
   ],
   "source": [
    "new_jensens_alpha=(returns_new_pf-Rf)-(beta_new_pf)*(Rm-Rf)\n",
    "round(new_jensens_alpha,3)"
   ]
  },
  {
   "cell_type": "code",
   "execution_count": 289,
   "metadata": {},
   "outputs": [],
   "source": [
    "weights_new=[[0]*15]*25000\n",
    "num_portfolios=25000\n",
    "for i in range(num_portfolios):\n",
    "    weights_new[i] = np.array(np.random.random(15))\n",
    "    weights_new[i]= weights_new[i]/np.sum(weights_new[i])\n",
    "\n",
    "portfolio_returns_new=[]\n",
    "for i in range(25000):\n",
    "    portfolio_returns_new.append(m_new@(weights_new[i].T))  \n",
    "    \n",
    "porfolio_std_dev_new=[]\n",
    "for i in range(25000):\n",
    "    porfolio_std_dev_new.append(np.sqrt((weights_new[i])@C_new@(weights_new[i].T)*252)) \n",
    "    \n",
    "sharpe_ratios_new=[]\n",
    "for i in range(25000):\n",
    "    sharpe_ratios_new.append((portfolio_returns_new[i]-Rf)/porfolio_std_dev_new[i]) "
   ]
  },
  {
   "cell_type": "code",
   "execution_count": 290,
   "metadata": {},
   "outputs": [
    {
     "data": {
      "text/html": [
       "<div>\n",
       "<style scoped>\n",
       "    .dataframe tbody tr th:only-of-type {\n",
       "        vertical-align: middle;\n",
       "    }\n",
       "\n",
       "    .dataframe tbody tr th {\n",
       "        vertical-align: top;\n",
       "    }\n",
       "\n",
       "    .dataframe thead th {\n",
       "        text-align: right;\n",
       "    }\n",
       "</style>\n",
       "<table border=\"1\" class=\"dataframe\">\n",
       "  <thead>\n",
       "    <tr style=\"text-align: right;\">\n",
       "      <th></th>\n",
       "      <th>portfolio_returns</th>\n",
       "      <th>Std.Dev</th>\n",
       "      <th>sharpe_ratio</th>\n",
       "    </tr>\n",
       "  </thead>\n",
       "  <tbody>\n",
       "    <tr>\n",
       "      <th>0</th>\n",
       "      <td>23.089909</td>\n",
       "      <td>16.441963</td>\n",
       "      <td>0.902563</td>\n",
       "    </tr>\n",
       "    <tr>\n",
       "      <th>1</th>\n",
       "      <td>22.361586</td>\n",
       "      <td>14.814656</td>\n",
       "      <td>0.952542</td>\n",
       "    </tr>\n",
       "    <tr>\n",
       "      <th>2</th>\n",
       "      <td>20.658113</td>\n",
       "      <td>15.425258</td>\n",
       "      <td>0.804402</td>\n",
       "    </tr>\n",
       "    <tr>\n",
       "      <th>3</th>\n",
       "      <td>20.002486</td>\n",
       "      <td>16.029508</td>\n",
       "      <td>0.733178</td>\n",
       "    </tr>\n",
       "    <tr>\n",
       "      <th>4</th>\n",
       "      <td>23.245577</td>\n",
       "      <td>15.209129</td>\n",
       "      <td>0.985959</td>\n",
       "    </tr>\n",
       "  </tbody>\n",
       "</table>\n",
       "</div>"
      ],
      "text/plain": [
       "   portfolio_returns    Std.Dev  sharpe_ratio\n",
       "0          23.089909  16.441963      0.902563\n",
       "1          22.361586  14.814656      0.952542\n",
       "2          20.658113  15.425258      0.804402\n",
       "3          20.002486  16.029508      0.733178\n",
       "4          23.245577  15.209129      0.985959"
      ]
     },
     "execution_count": 290,
     "metadata": {},
     "output_type": "execute_result"
    }
   ],
   "source": [
    "data2={'portfolio_returns':portfolio_returns_new,'Std.Dev':porfolio_std_dev_new,'sharpe_ratio':sharpe_ratios_new}\n",
    "portfolios2=pd.DataFrame(data2)\n",
    "portfolios2.head()"
   ]
  },
  {
   "cell_type": "code",
   "execution_count": 291,
   "metadata": {},
   "outputs": [],
   "source": [
    "max_sharpe_port_new = portfolios2.iloc[portfolios2['sharpe_ratio'].idxmax()]\n",
    "min_volatility_port_new = portfolios2.iloc[portfolios2['Std.Dev'].idxmin()]"
   ]
  },
  {
   "cell_type": "code",
   "execution_count": 292,
   "metadata": {},
   "outputs": [
    {
     "name": "stdout",
     "output_type": "stream",
     "text": [
      "portfolio_returns    30.958345\n",
      "Std.Dev              15.732691\n",
      "sharpe_ratio          1.443386\n",
      "Name: 14825, dtype: float64\n",
      "portfolio_returns    21.197684\n",
      "Std.Dev              13.879946\n",
      "sharpe_ratio          0.932834\n",
      "Name: 21629, dtype: float64\n"
     ]
    }
   ],
   "source": [
    "print(max_sharpe_port_new)\n",
    "print(min_volatility_port_new)"
   ]
  },
  {
   "cell_type": "code",
   "execution_count": 293,
   "metadata": {},
   "outputs": [],
   "source": [
    "A=[[1,u_new@np.linalg.inv(C_new)@(m_new.T)],[32.486525,m_new@np.linalg.inv(C_new)@(m_new.T)]]\n",
    "B=[[u_new@np.linalg.inv(C_new)@(u_new.T),1],[m_new@np.linalg.inv(C_new)@(u_new.T),32.486525]]\n",
    "c=[[u_new@np.linalg.inv(C_new)@(u_new.T),u_new@np.linalg.inv(C_new)@(m_new.T)],[m_new@np.linalg.inv(C_new)@(u_new.T),m_new@np.linalg.inv(C_new)@(m_new.T)]]"
   ]
  },
  {
   "cell_type": "code",
   "execution_count": 294,
   "metadata": {},
   "outputs": [],
   "source": [
    "weights_sharpe_ratio=(np.linalg.det(A)*(u_new@np.linalg.inv(C_new))+np.linalg.det(B)*(m_new@np.linalg.inv(C_new)))/np.linalg.det(c)"
   ]
  },
  {
   "cell_type": "code",
   "execution_count": 295,
   "metadata": {},
   "outputs": [
    {
     "data": {
      "text/plain": [
       "array([ 0.121279  ,  0.03051064,  0.03802661,  0.00980452, -0.03041445,\n",
       "        0.01020216, -0.03273695,  0.07420694,  0.18791412,  0.17705282,\n",
       "        0.11526038, -0.05491532,  0.02358204,  0.23763159,  0.09259589])"
      ]
     },
     "execution_count": 295,
     "metadata": {},
     "output_type": "execute_result"
    }
   ],
   "source": [
    "weights_sharpe_ratio"
   ]
  },
  {
   "cell_type": "code",
   "execution_count": 299,
   "metadata": {},
   "outputs": [
    {
     "name": "stdout",
     "output_type": "stream",
     "text": [
      "portfolio returns are 32.487 %\n",
      "porfolio volatility/risk is 13.432\n"
     ]
    }
   ],
   "source": [
    "returns_sharpe_ratio=m_new@(weights_sharpe_ratio.T)\n",
    "var_sharpe_ratio=w_new@C_new@(weights_sharpe_ratio.T)\n",
    "print('portfolio returns are',round(returns_sharpe_ratio,3), '%')\n",
    "print('porfolio volatility/risk is', round(np.sqrt((var_sharpe_ratio)*252),3))"
   ]
  },
  {
   "cell_type": "code",
   "execution_count": 300,
   "metadata": {},
   "outputs": [
    {
     "data": {
      "text/plain": [
       "27.545"
      ]
     },
     "execution_count": 300,
     "metadata": {},
     "output_type": "execute_result"
    }
   ],
   "source": [
    "new_jensens_alpha=(32.468-Rf)-(beta_new_pf)*(Rm-Rf)\n",
    "round(new_jensens_alpha,3)"
   ]
  },
  {
   "cell_type": "code",
   "execution_count": 301,
   "metadata": {},
   "outputs": [
    {
     "data": {
      "text/plain": [
       "30.029"
      ]
     },
     "execution_count": 301,
     "metadata": {},
     "output_type": "execute_result"
    }
   ],
   "source": [
    "new_treynors_measure=(32.468-Rf)/beta_new_pf\n",
    "round(new_treynors_measure,3)"
   ]
  },
  {
   "cell_type": "markdown",
   "metadata": {},
   "source": [
    "### The tangency portfolio with the selected 15 stocks, has a sharpe ratio of 1.46, returns of 32.48% and stdev of 16.5%"
   ]
  },
  {
   "cell_type": "code",
   "execution_count": 302,
   "metadata": {},
   "outputs": [],
   "source": [
    "new_pf=list(df_u['Symbol'])"
   ]
  },
  {
   "cell_type": "code",
   "execution_count": 304,
   "metadata": {},
   "outputs": [],
   "source": [
    "ra_3=[]\n",
    "#ra=individual returns arrays\n",
    "for i in range(0,23):\n",
    "    ra_3.append(returns(new_pf[i]))"
   ]
  },
  {
   "cell_type": "code",
   "execution_count": 305,
   "metadata": {},
   "outputs": [],
   "source": [
    "C_3=[]\n",
    "for i in range(0,23):\n",
    "    c=[]\n",
    "    for j in range(0,23):\n",
    "        c.append(np.cov(ra_3[i],ra_3[j])[0,1])\n",
    "    C_3.append(c)"
   ]
  },
  {
   "cell_type": "code",
   "execution_count": 306,
   "metadata": {},
   "outputs": [],
   "source": [
    "u_3=np.ones(23)\n",
    "w_3=(u_3@np.linalg.inv(C_3))/(u_3@np.linalg.inv(C_3)@(u_3.T))"
   ]
  },
  {
   "cell_type": "code",
   "execution_count": 307,
   "metadata": {},
   "outputs": [
    {
     "data": {
      "text/plain": [
       "[4.864530406350309,\n",
       " 14.950097728335244,\n",
       " 17.54490609357797,\n",
       " 70.32391793422741,\n",
       " 25.69809988656242,\n",
       " 27.073429900900493,\n",
       " 18.699124922149245,\n",
       " 10.749171788545397,\n",
       " 23.279827368884188,\n",
       " 6.988704648509181,\n",
       " 27.02607983668779,\n",
       " 4.251615826511368,\n",
       " 27.78305587937031,\n",
       " 6.328163947919241,\n",
       " 16.316095591282153,\n",
       " 26.912776801064233,\n",
       " 26.991315933651293,\n",
       " 5.044898102306772,\n",
       " 23.7957988327153,\n",
       " 8.749394823233336,\n",
       " 28.46147890644639,\n",
       " 17.07734920879769,\n",
       " 25.690627416361455]"
      ]
     },
     "execution_count": 307,
     "metadata": {},
     "output_type": "execute_result"
    }
   ],
   "source": [
    "m_3=[]\n",
    "for i in range(0,23):\n",
    "    m_3.append(K(new_pf[i]))\n",
    "m_3    "
   ]
  },
  {
   "cell_type": "code",
   "execution_count": 308,
   "metadata": {},
   "outputs": [
    {
     "name": "stdout",
     "output_type": "stream",
     "text": [
      "portfolio returns are 18.017 %\n",
      "porfolio volatility/risk is 12.008\n"
     ]
    }
   ],
   "source": [
    "returns_new_pf3=m_3@(w_3.T)\n",
    "var_new_pf3=w_3@C_3@(w_3.T)\n",
    "print('portfolio returns are',round(returns_new_pf3,3), '%')\n",
    "print('porfolio volatility/risk is', round(np.sqrt((var_new_pf3)*252),3))"
   ]
  },
  {
   "cell_type": "code",
   "execution_count": 309,
   "metadata": {},
   "outputs": [
    {
     "name": "stdout",
     "output_type": "stream",
     "text": [
      "Sharpe ratio for my_portfolio is 0.813\n"
     ]
    }
   ],
   "source": [
    "sharpe_ratio_new3=round((returns_new_pf3-Rf)/np.sqrt((var_new_pf3)*252),3)\n",
    "print('Sharpe ratio for my_portfolio is', sharpe_ratio_new3)"
   ]
  },
  {
   "cell_type": "code",
   "execution_count": 310,
   "metadata": {},
   "outputs": [],
   "source": [
    "new_pf_daily_returns=[0]\n",
    "for i in range(0,23):\n",
    "    new_pf_daily_returns+=w_3[i]*ra_3[i]"
   ]
  },
  {
   "cell_type": "code",
   "execution_count": 311,
   "metadata": {},
   "outputs": [
    {
     "data": {
      "text/plain": [
       "0.749"
      ]
     },
     "execution_count": 311,
     "metadata": {},
     "output_type": "execute_result"
    }
   ],
   "source": [
    "beta_new_pf3=(np.cov(new_pf_daily_returns,nifty['Returns'])[0,1])/(VARm/252)\n",
    "round(beta_new_pf3,3)"
   ]
  },
  {
   "cell_type": "code",
   "execution_count": 312,
   "metadata": {},
   "outputs": [
    {
     "data": {
      "text/plain": [
       "12.856"
      ]
     },
     "execution_count": 312,
     "metadata": {},
     "output_type": "execute_result"
    }
   ],
   "source": [
    "new_jensens_alpha3=(returns_new_pf3-Rf)-(beta_new_pf3)*(Rm-Rf)\n",
    "round(new_jensens_alpha3,3)"
   ]
  },
  {
   "cell_type": "code",
   "execution_count": 313,
   "metadata": {},
   "outputs": [
    {
     "data": {
      "text/plain": [
       "13.045"
      ]
     },
     "execution_count": 313,
     "metadata": {},
     "output_type": "execute_result"
    }
   ],
   "source": [
    "treynors_measure3=(returns_new_pf3-Rf)/beta_new_pf3\n",
    "round(treynors_measure3,3)"
   ]
  },
  {
   "cell_type": "code",
   "execution_count": 314,
   "metadata": {},
   "outputs": [],
   "source": [
    "weights_3=[[0]*23]*25000\n",
    "num_portfolios=25000\n",
    "for i in range(num_portfolios):\n",
    "    weights_3[i] = np.array(np.random.random(23))\n",
    "    weights_3[i]= weights_3[i]/np.sum(weights_3[i])\n",
    "\n",
    "portfolio_returns_new3=[]\n",
    "for i in range(25000):\n",
    "    portfolio_returns_new3.append(m_3@(weights_3[i].T))  \n",
    "    \n",
    "porfolio_std_dev_new3=[]\n",
    "for i in range(25000):\n",
    "    porfolio_std_dev_new3.append(np.sqrt((weights_3[i])@C_3@(weights_3[i].T)*252)) \n",
    "    \n",
    "sharpe_ratios_new3=[]\n",
    "for i in range(25000):\n",
    "    sharpe_ratios_new3.append((portfolio_returns_new3[i]-Rf)/porfolio_std_dev_new3[i]) "
   ]
  },
  {
   "cell_type": "code",
   "execution_count": 315,
   "metadata": {},
   "outputs": [
    {
     "data": {
      "text/html": [
       "<div>\n",
       "<style scoped>\n",
       "    .dataframe tbody tr th:only-of-type {\n",
       "        vertical-align: middle;\n",
       "    }\n",
       "\n",
       "    .dataframe tbody tr th {\n",
       "        vertical-align: top;\n",
       "    }\n",
       "\n",
       "    .dataframe thead th {\n",
       "        text-align: right;\n",
       "    }\n",
       "</style>\n",
       "<table border=\"1\" class=\"dataframe\">\n",
       "  <thead>\n",
       "    <tr style=\"text-align: right;\">\n",
       "      <th></th>\n",
       "      <th>portfolio_returns</th>\n",
       "      <th>Std.Dev</th>\n",
       "      <th>sharpe_ratio</th>\n",
       "    </tr>\n",
       "  </thead>\n",
       "  <tbody>\n",
       "    <tr>\n",
       "      <th>0</th>\n",
       "      <td>21.744944</td>\n",
       "      <td>15.060190</td>\n",
       "      <td>0.896067</td>\n",
       "    </tr>\n",
       "    <tr>\n",
       "      <th>1</th>\n",
       "      <td>18.508547</td>\n",
       "      <td>15.148104</td>\n",
       "      <td>0.677217</td>\n",
       "    </tr>\n",
       "    <tr>\n",
       "      <th>2</th>\n",
       "      <td>21.756335</td>\n",
       "      <td>15.395598</td>\n",
       "      <td>0.877286</td>\n",
       "    </tr>\n",
       "    <tr>\n",
       "      <th>3</th>\n",
       "      <td>21.679785</td>\n",
       "      <td>15.032818</td>\n",
       "      <td>0.893364</td>\n",
       "    </tr>\n",
       "    <tr>\n",
       "      <th>4</th>\n",
       "      <td>22.924773</td>\n",
       "      <td>15.139179</td>\n",
       "      <td>0.969324</td>\n",
       "    </tr>\n",
       "  </tbody>\n",
       "</table>\n",
       "</div>"
      ],
      "text/plain": [
       "   portfolio_returns    Std.Dev  sharpe_ratio\n",
       "0          21.744944  15.060190      0.896067\n",
       "1          18.508547  15.148104      0.677217\n",
       "2          21.756335  15.395598      0.877286\n",
       "3          21.679785  15.032818      0.893364\n",
       "4          22.924773  15.139179      0.969324"
      ]
     },
     "execution_count": 315,
     "metadata": {},
     "output_type": "execute_result"
    }
   ],
   "source": [
    "data3={'portfolio_returns':portfolio_returns_new3,'Std.Dev':porfolio_std_dev_new3,'sharpe_ratio':sharpe_ratios_new3}\n",
    "portfolios3=pd.DataFrame(data3)\n",
    "portfolios3.head()"
   ]
  },
  {
   "cell_type": "code",
   "execution_count": 316,
   "metadata": {},
   "outputs": [],
   "source": [
    "max_sharpe_port_new3 = portfolios3.iloc[portfolios3['sharpe_ratio'].idxmax()]\n",
    "min_volatility_port_new3 = portfolios3.iloc[portfolios3['Std.Dev'].idxmin()]"
   ]
  },
  {
   "cell_type": "code",
   "execution_count": 317,
   "metadata": {},
   "outputs": [
    {
     "name": "stdout",
     "output_type": "stream",
     "text": [
      "portfolio_returns    26.993403\n",
      "Std.Dev              15.042503\n",
      "sharpe_ratio          1.246029\n",
      "Name: 4123, dtype: float64\n",
      "portfolio_returns    18.514887\n",
      "Std.Dev              13.601090\n",
      "sharpe_ratio          0.754711\n",
      "Name: 16021, dtype: float64\n"
     ]
    }
   ],
   "source": [
    "print(max_sharpe_port_new3)\n",
    "print(min_volatility_port_new3)"
   ]
  },
  {
   "cell_type": "markdown",
   "metadata": {},
   "source": [
    "##### The third portfolio(23 stocks), has the least systematic risk(beta) and also the least diversifiable risk(very small) but a little lesser than that of the second portfolio(15 stocks)."
   ]
  },
  {
   "cell_type": "markdown",
   "metadata": {},
   "source": [
    "## 2) With the increase in no. of stocks in the portfolio, the risk decreased!\n",
    "\n",
    "Basically, with the increase in no. of stocks we are diversifying away the idiosyncratic risk(otherwise known as diversifiable risk).</p>\n",
    "\n",
    "So, by diversifying the portfolio, the idiosyncratic risk reduces and the investor will be compensated for holding only the systematic risk.</p>\n",
    "\n",
    "As far as the returns on the portfolio goes, it increased from 7 to 15 stocks but decreased from 15 to 23 stocks.</p>\n",
    "\n",
    "After a certain no. of stocks in the portfolio, the risk doesn't decrease much, because we've diversified away the majority of the risk, and increasing the stocks after that would just make it tougher to monitor the portfolio \n",
    "\n",
    "###### So we can conclude that on increasing the no.of the stocks, the risk certainly reduces, but after an optimal number of stocks, there's not much to gain either. "
   ]
  },
  {
   "cell_type": "markdown",
   "metadata": {},
   "source": [
    "## 3) Accuracy Parameters\n",
    "1) Treynor Measure\n",
    "\n",
    "2) Jensen's Alpha\n",
    "\n",
    "3) Sharpe Ratio\n",
    "\n",
    "For all the above parameters, the greater their value the better is the portfolio."
   ]
  },
  {
   "cell_type": "code",
   "execution_count": 318,
   "metadata": {},
   "outputs": [],
   "source": [
    "nifty_test = get_history(symbol=\"NIFTY\",\n",
    "                            start=date(2017,4,1),\n",
    "                            end=date(2018,3,31),\n",
    "                            index=True)"
   ]
  },
  {
   "cell_type": "code",
   "execution_count": 319,
   "metadata": {},
   "outputs": [],
   "source": [
    "nifty_test['Returns']=(nifty_test.iloc[:,3]-nifty_test.iloc[:,0])*100/nifty_test.iloc[:,0]\n",
    "nifty_return=(nifty_test.iloc[-1,3]-nifty_test.iloc[0,0])/nifty_test.iloc[0,0]"
   ]
  },
  {
   "cell_type": "code",
   "execution_count": 320,
   "metadata": {},
   "outputs": [
    {
     "data": {
      "text/plain": [
       "9.685920655922612"
      ]
     },
     "execution_count": 320,
     "metadata": {},
     "output_type": "execute_result"
    }
   ],
   "source": [
    "nifty_return*100"
   ]
  },
  {
   "cell_type": "code",
   "execution_count": 202,
   "metadata": {},
   "outputs": [
    {
     "data": {
      "text/plain": [
       "75.4200557231064"
      ]
     },
     "execution_count": 202,
     "metadata": {},
     "output_type": "execute_result"
    }
   ],
   "source": [
    "(np.var(nifty_test['Returns'])*252)"
   ]
  },
  {
   "cell_type": "code",
   "execution_count": 168,
   "metadata": {},
   "outputs": [],
   "source": [
    "test_pf=['BAJAJ-AUTO','ASIANPAINT','UPL','ZEEL','HINDALCO','NTPC','ADANIPORTS','SHREECEM','BAJAJFINSV','RELIANCE',\n",
    "              'MARUTI','SBIN','TITAN','POWERGRID','BRITANNIA']"
   ]
  },
  {
   "cell_type": "code",
   "execution_count": 169,
   "metadata": {},
   "outputs": [],
   "source": [
    "def test_returns(X):\n",
    "    '''\n",
    "    returns an array for the returns on the stock\n",
    "    \n",
    "    Parameters\n",
    "    ----------\n",
    "    X : name of the chosen stock.(datatype=string)\n",
    "    '''\n",
    "    X_history=get_history(symbol=X,\n",
    "                    start=date(2017,4,1),\n",
    "                    end=date(2018,3,31))\n",
    "    X_history=X_history.drop(['Symbol','Series','Prev Close','Last'], axis=1)\n",
    "    X_history['Returns']=(X_history.iloc[:,3]-X_history.iloc[:,0])*100/X_history.iloc[:,0]\n",
    "    return X_history['Returns']"
   ]
  },
  {
   "cell_type": "code",
   "execution_count": 172,
   "metadata": {},
   "outputs": [],
   "source": [
    "ra_test=[]\n",
    "for i in range(0,15):\n",
    "    ra_test.append(test_returns(test_pf[i]))"
   ]
  },
  {
   "cell_type": "code",
   "execution_count": 173,
   "metadata": {},
   "outputs": [],
   "source": [
    "C_test=[]\n",
    "for i in range(0,15):\n",
    "    b_test=[]\n",
    "    for j in range(0,15):\n",
    "        b_test.append(np.cov(ra_test[i],ra_test[j])[0,1])\n",
    "    C_test.append(b_test)"
   ]
  },
  {
   "cell_type": "code",
   "execution_count": 189,
   "metadata": {},
   "outputs": [],
   "source": [
    "def Return(X):\n",
    "    '''\n",
    "    returns an returns on the stock(mean value)\n",
    "    \n",
    "    Parameters\n",
    "    ----------\n",
    "    X : name of the chosen stock.(datatype=string)\n",
    "    '''\n",
    "    X_history=get_history(symbol=X,\n",
    "                    start=date(2017,4,1),\n",
    "                    end=date(2018,3,31))\n",
    "    X_history=X_history.drop(['Symbol','Series','Prev Close','Last'], axis=1)\n",
    "    X_history['Returns']=(X_history.iloc[:,3]-X_history.iloc[:,0])*100/X_history.iloc[:,0]\n",
    "    X_return=(X_history.iloc[-1,3]-X_history.iloc[0,0])/X_history.iloc[0,0]\n",
    "    return X_return*100"
   ]
  },
  {
   "cell_type": "code",
   "execution_count": 191,
   "metadata": {},
   "outputs": [
    {
     "data": {
      "text/plain": [
       "[-2.2681954137587335,\n",
       " 4.252349492881739,\n",
       " 0.42632194182768657,\n",
       " 7.459620950424806,\n",
       " 9.969246540235785,\n",
       " 2.2289156626505955,\n",
       " 3.9635936582501468,\n",
       " -5.286410591534141,\n",
       " 26.18460862775719,\n",
       " -34.22503725782414,\n",
       " 45.383100902379006,\n",
       " -15.23066485753053,\n",
       " 105.07072905331883,\n",
       " -3.084252758274827,\n",
       " 47.189813443885114]"
      ]
     },
     "execution_count": 191,
     "metadata": {},
     "output_type": "execute_result"
    }
   ],
   "source": [
    "m_test=[]\n",
    "for i in range(0,15):\n",
    "    m_test.append(Return(test_pf[i]))\n",
    "m_test    "
   ]
  },
  {
   "cell_type": "code",
   "execution_count": 198,
   "metadata": {},
   "outputs": [
    {
     "name": "stdout",
     "output_type": "stream",
     "text": [
      "portfolio returns are 10.184 %\n",
      "porfolio volatility/risk is 12.664\n"
     ]
    }
   ],
   "source": [
    "returns_test=m_test@(weights_sharpe_ratio.T)\n",
    "var_test=weights_sharpe_ratio@C_test@(weights_sharpe_ratio.T)\n",
    "print('portfolio returns are',round(returns_test,3), '%')\n",
    "print('porfolio volatility/risk is', round(np.sqrt((var_test*252)),3))"
   ]
  },
  {
   "cell_type": "code",
   "execution_count": 203,
   "metadata": {},
   "outputs": [],
   "source": [
    "test_pf_daily_returns=[0]\n",
    "for i in range(0,15):\n",
    "    test_pf_daily_returns+=weights_sharpe_ratio[i]*ra_test[i]"
   ]
  },
  {
   "cell_type": "code",
   "execution_count": 204,
   "metadata": {},
   "outputs": [],
   "source": [
    "beta_test=(np.cov(test_pf_daily_returns,nifty_test['Returns'])[0,1])/(75/252)"
   ]
  },
  {
   "cell_type": "code",
   "execution_count": 210,
   "metadata": {
    "scrolled": true
   },
   "outputs": [
    {
     "name": "stdout",
     "output_type": "stream",
     "text": [
      "0.2119393556538218\n",
      "0.5033974587539749\n",
      "2.6833346420581363\n"
     ]
    }
   ],
   "source": [
    "sharpe_ratio=(10.184-7.5)/12.664\n",
    "jensens_alpha=(10.184-7.25)-(9.68-7.25)*beta_test\n",
    "treynor_value=(10.184-7.5)/beta_test\n",
    "print(sharpe_ratio)\n",
    "print(jensens_alpha)\n",
    "print(treynor_value)"
   ]
  },
  {
   "cell_type": "markdown",
   "metadata": {},
   "source": [
    "The pf out performs the market by approximately 1% and bears more risk and the parameters are very less than those on the test data. "
   ]
  },
  {
   "cell_type": "markdown",
   "metadata": {},
   "source": [
    "## 4) Why do we optimize the weights and not equally weight the stocks?\n",
    "1) By optimizing the weights, higher weights are assigned to the ones with more returns and larger market cap.\n",
    "\n",
    "2) Because we hope to outperform the market, weighing stocks with more returns would certainly increase the returns on the portfolio rather than weighing the under-performing stocks and the well-performing stocks equally.\n",
    "\n",
    "3) And since stocks with higher market cap are weighted more, such companies would be less effected by any unforeseen incidents, whereas small-cap firms won't be able to survive such shocks."
   ]
  },
  {
   "cell_type": "code",
   "execution_count": 323,
   "metadata": {},
   "outputs": [],
   "source": [
    "nifty_test2 = get_history(symbol=\"NIFTY\",\n",
    "                            start=date(2017,4,1),\n",
    "                            end=date(2019,3,31),\n",
    "                            index=True)\n",
    "\n",
    "nifty_test2['Returns']=(nifty.iloc[:,3]-nifty.iloc[:,0])*100/nifty.iloc[:,0]\n",
    "\n",
    "nifty_test_1 = get_history(symbol=\"NIFTY\",\n",
    "                            start=date(2017,4,1),\n",
    "                            end=date(2018,3,31),\n",
    "                            index=True)\n",
    "nifty_test_2 = get_history(symbol=\"NIFTY\",\n",
    "                            start=date(2018,4,1),\n",
    "                            end=date(2019,3,31),\n",
    "                            index=True)\n",
    "\n",
    "nifty_test_return_1=(nifty_test_1.iloc[-1,3]-nifty_test_1.iloc[0,0])/nifty_test_1.iloc[0,0]\n",
    "nifty_test_return_2=(nifty_test_2.iloc[-1,3]-nifty_test_2.iloc[0,0])/nifty_test_2.iloc[0,0]\n",
    "\n",
    "total_test_return=(1+nifty_test_return_1)*(1+nifty_test_return_2)\n",
    "annualised_test_return=(np.sqrt(total_test_return)-1)*100\n",
    "test_Rm=annualised_test_return\n",
    "test_VARm=round((np.var(nifty_test2['Returns'])*252),3)"
   ]
  },
  {
   "cell_type": "code",
   "execution_count": 337,
   "metadata": {},
   "outputs": [],
   "source": [
    "rf_test=7"
   ]
  },
  {
   "cell_type": "code",
   "execution_count": 325,
   "metadata": {},
   "outputs": [],
   "source": [
    "test_pf=['BAJAJ-AUTO','ASIANPAINT','UPL','ZEEL','HINDALCO','NTPC','ADANIPORTS','SHREECEM','BAJAJFINSV','RELIANCE',\n",
    "              'MARUTI','SBIN','TITAN','POWERGRID','BRITANNIA']"
   ]
  },
  {
   "cell_type": "code",
   "execution_count": 326,
   "metadata": {},
   "outputs": [],
   "source": [
    "def K_test(X):\n",
    "    \"\"\"\n",
    "    function for finding a stock's annualised returns\n",
    "    \n",
    "    Parameters\n",
    "    ----------\n",
    "    X : name of the chosen stock.(datatype=string)\n",
    "    \"\"\"\n",
    "    X_history1=get_history(symbol=X,\n",
    "                    start=date(2017,4,1),\n",
    "                    end=date(2018,3,31))\n",
    "    X_history1=X_history1.drop(['Symbol','Series','Prev Close','Last'], axis=1)\n",
    "    X_history1_return1=(X_history1.iloc[-1,3]-X_history1.iloc[0,0])/X_history1.iloc[0,0]\n",
    "    \n",
    "    X_history2=get_history(symbol=X,\n",
    "                    start=date(2018,4,1),\n",
    "                    end=date(2019,3,31))\n",
    "    X_history2=X_history2.drop(['Symbol','Series','Prev Close','Last'], axis=1)\n",
    "    X_history2_return2=(X_history2.iloc[-1,3]-X_history2.iloc[0,0])/X_history2.iloc[0,0]\n",
    "    \n",
    "    total_returns=(1+X_history1_return1)*(1+X_history2_return2)\n",
    "    \n",
    "    annualized_returns=(np.sqrt(total_returns)-1)*100\n",
    "    return annualized_returns"
   ]
  },
  {
   "cell_type": "code",
   "execution_count": 329,
   "metadata": {},
   "outputs": [],
   "source": [
    "def test_returns2(X):\n",
    "    '''\n",
    "    returns an array for the returns on the stock\n",
    "    \n",
    "    Parameters\n",
    "    ----------\n",
    "    X : name of the chosen stock.(datatype=string)\n",
    "    '''\n",
    "    X_history=get_history(symbol=X,\n",
    "                    start=date(2017,4,1),\n",
    "                    end=date(2019,3,31))\n",
    "    X_history=X_history.drop(['Symbol','Series','Prev Close','Last'], axis=1)\n",
    "    X_history['Returns']=(X_history.iloc[:,3]-X_history.iloc[:,0])*100/X_history.iloc[:,0]\n",
    "    return X_history['Returns']"
   ]
  },
  {
   "cell_type": "code",
   "execution_count": 330,
   "metadata": {},
   "outputs": [],
   "source": [
    "ra_test2=[]\n",
    "for i in range(0,15):\n",
    "    ra_test2.append(test_returns2(test_pf[i]))"
   ]
  },
  {
   "cell_type": "code",
   "execution_count": 331,
   "metadata": {},
   "outputs": [],
   "source": [
    "C_test2=[]\n",
    "for i in range(0,15):\n",
    "    b_test2=[]\n",
    "    for j in range(0,15):\n",
    "        b_test2.append(np.cov(ra_test2[i],ra_test2[j])[0,1])\n",
    "    C_test2.append(b_test2)"
   ]
  },
  {
   "cell_type": "code",
   "execution_count": 332,
   "metadata": {},
   "outputs": [
    {
     "data": {
      "text/plain": [
       "[1.6215277096710334,\n",
       " 17.8535426834072,\n",
       " 14.312793169912364,\n",
       " -8.936208685409653,\n",
       " 2.155662307578887,\n",
       " -9.972749728205542,\n",
       " 5.086685648204359,\n",
       " 4.470449992972858,\n",
       " 32.275827663702096,\n",
       " 0.20567759800198537,\n",
       " 3.8778701230064883,\n",
       " 3.914190341395707,\n",
       " 57.57143617618317,\n",
       " -0.28650066942136343,\n",
       " -4.675721482656425]"
      ]
     },
     "execution_count": 332,
     "metadata": {},
     "output_type": "execute_result"
    }
   ],
   "source": [
    "m_test2=[]\n",
    "for i in range(0,15):\n",
    "    m_test2.append(K_test(test_pf[i]))\n",
    "m_test2"
   ]
  },
  {
   "cell_type": "code",
   "execution_count": 340,
   "metadata": {},
   "outputs": [
    {
     "data": {
      "text/plain": [
       "array([ 0.121279  ,  0.03051064,  0.03802661,  0.00980452, -0.03041445,\n",
       "        0.01020216, -0.03273695,  0.07420694,  0.18791412,  0.17705282,\n",
       "        0.11526038, -0.05491532,  0.02358204,  0.23763159,  0.09259589])"
      ]
     },
     "execution_count": 340,
     "metadata": {},
     "output_type": "execute_result"
    }
   ],
   "source": [
    "weights_sharpe_ratio"
   ]
  },
  {
   "cell_type": "code",
   "execution_count": 335,
   "metadata": {},
   "outputs": [
    {
     "name": "stdout",
     "output_type": "stream",
     "text": [
      "portfolio returns are 8.386 %\n",
      "porfolio volatility/risk is 13.354\n"
     ]
    }
   ],
   "source": [
    "returns_test2=m_test2@(weights_sharpe_ratio.T)\n",
    "var_test2=weights_sharpe_ratio@C_test2@(weights_sharpe_ratio.T)\n",
    "print('portfolio returns are',round(returns_test2,3), '%')\n",
    "print('porfolio volatility/risk is', round(np.sqrt((var_test2*252)),3))"
   ]
  },
  {
   "cell_type": "code",
   "execution_count": null,
   "metadata": {},
   "outputs": [],
   "source": []
  }
 ],
 "metadata": {
  "kernelspec": {
   "display_name": "Python 3",
   "language": "python",
   "name": "python3"
  },
  "language_info": {
   "codemirror_mode": {
    "name": "ipython",
    "version": 3
   },
   "file_extension": ".py",
   "mimetype": "text/x-python",
   "name": "python",
   "nbconvert_exporter": "python",
   "pygments_lexer": "ipython3",
   "version": "3.7.6"
  }
 },
 "nbformat": 4,
 "nbformat_minor": 4
}
